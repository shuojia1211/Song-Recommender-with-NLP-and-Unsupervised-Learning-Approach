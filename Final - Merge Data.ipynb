{
 "cells": [
  {
   "cell_type": "code",
   "execution_count": 9,
   "metadata": {},
   "outputs": [],
   "source": [
    "import pandas as pd\n",
    "import numpy as np\n",
    "import csv\n",
    "import json\n",
    "from pandas.io.json import json_normalize"
   ]
  },
  {
   "cell_type": "code",
   "execution_count": 10,
   "metadata": {},
   "outputs": [],
   "source": [
    "# display only 15 rows of results in each cell\n",
    "pd.options.display.max_rows = 15\n",
    "pd.set_option('display.max_columns', 50)"
   ]
  },
  {
   "cell_type": "markdown",
   "metadata": {},
   "source": [
    "### <font color='orange'>Import Dataframe</font>"
   ]
  },
  {
   "cell_type": "markdown",
   "metadata": {},
   "source": [
    "Here are the sites explaining the features <br>\n",
    "1) https://github.com/kevinschaich/billboard <br>\n",
    "2) https://developer.spotify.com/documentation/web-api/reference/tracks/get-audio-features/ <br>\n",
    "\n",
    "I'm using the dataset from [Billboard Hot 100 Analytics](https://github.com/RosebudAnwuri/TheArtandScienceofData/blob/master/The%20Making%20of%20Great%20Music/data/music_df.csv) as my primary dataset. However, there is an important feature (song genre/tags) missing from this dataset, so I'm also using the dataset from [Billboard Top 100 Songs](https://github.com/kevinschaich/billboard/tree/master/data/years) to join with my primary dataset."
   ]
  },
  {
   "cell_type": "code",
   "execution_count": 11,
   "metadata": {},
   "outputs": [],
   "source": [
    "# this is my primary dataset\n",
    "primary_df = pd.read_csv('https://raw.githubusercontent.com/RosebudAnwuri/TheArtandScienceofData/master/The%20Making%20of%20Great%20Music/data/music_df.csv')"
   ]
  },
  {
   "cell_type": "code",
   "execution_count": 12,
   "metadata": {},
   "outputs": [],
   "source": [
    "# define function to generate list of urls for json files of my supplemental dataset\n",
    "def urls():\n",
    "    url = []\n",
    "    url_str = 'https://raw.githubusercontent.com/kevinschaich/billboard/master/data/years/'\n",
    "    \n",
    "    for num in range(1950, 2016):\n",
    "        url_addr = url_str + str(num) + '.json'\n",
    "        url.append(url_addr)\n",
    "    return url"
   ]
  },
  {
   "cell_type": "code",
   "execution_count": 13,
   "metadata": {},
   "outputs": [],
   "source": [
    "# read all json files of my supplemental dataset and concatenate them into one single dataframe\n",
    "def concat():\n",
    "    url_list = urls()\n",
    "    df_from_each_file = (pd.read_json(url) for url in url_list)\n",
    "    concatenated_df = pd.concat(df_from_each_file, ignore_index=True)\n",
    "    return concatenated_df"
   ]
  },
  {
   "cell_type": "code",
   "execution_count": 14,
   "metadata": {},
   "outputs": [],
   "source": [
    "# return the supplemental dataframe\n",
    "supplemental_df = concat()"
   ]
  },
  {
   "cell_type": "code",
   "execution_count": 15,
   "metadata": {},
   "outputs": [
    {
     "name": "stdout",
     "output_type": "stream",
     "text": [
      "Index(['artist', 'difficult_words', 'f_k_grade', 'flesch_index', 'fog_index',\n",
      "       'lyrics', 'num_dupes', 'num_lines', 'num_syllables', 'num_words', 'pos',\n",
      "       'sentiment', 'tags', 'title', 'year'],\n",
      "      dtype='object')\n",
      "Index(['lyrics', 'num_syllables', 'pos', 'year', 'fog_index', 'flesch_index',\n",
      "       'num_words', 'num_lines', 'title', 'f_k_grade', 'artist',\n",
      "       'difficult_words', 'num_dupes', 'neg', 'neu', 'compound', 'id',\n",
      "       'danceability', 'energy', 'key', 'loudness', 'mode', 'speechiness',\n",
      "       'acousticness', 'instrumentalness', 'liveness', 'valence', 'tempo',\n",
      "       'duration_ms', 'time_signature', 'uri', 'analysis_url',\n",
      "       'artist_with_features', 'year_bin', 'image', 'cluster', 'Gender'],\n",
      "      dtype='object')\n"
     ]
    }
   ],
   "source": [
    "# it seems like sentiment and tag features are missing from primary dataset comparing with supplemental dataset\n",
    "# sentiment column from supplemental dataset are {pos, neu, neg, compound} from primary dataset\n",
    "# the 'pos' columns are different between primary and supplemental datasets\n",
    "# the 'pos' column from supplemental dataset probably means the ranking?? But it's not relevant to my analysis so I'm going to ignore it\n",
    "# I'm going to merge two dataframes and only add the 'tag' as a new feature\n",
    "print(supplemental_df.columns)\n",
    "print(primary_df.columns)"
   ]
  },
  {
   "cell_type": "markdown",
   "metadata": {},
   "source": [
    "### <font color='orange'>Merge Dataframe</font>"
   ]
  },
  {
   "cell_type": "code",
   "execution_count": 16,
   "metadata": {},
   "outputs": [],
   "source": [
    "# for mapping purposes\n",
    "primary_df['unique_key'] = primary_df['artist'].str.lower().str.replace(\"'\",'').str.replace(' ','').str.replace('-','').str.replace(',','') + '_' + primary_df['title'].str.lower().str.replace(\"'\",'').str.replace(' ','').str.replace('-','').str.replace(',','')\n",
    "supplemental_df['unique_key'] = supplemental_df['artist'].str.lower().str.replace(\"'\",'').str.replace(' ','').str.replace('-','').str.replace(',','') + '_' + supplemental_df['title'].str.lower().str.replace(\"'\",'').str.replace(' ','').str.replace('-','').str.replace(',','') "
   ]
  },
  {
   "cell_type": "code",
   "execution_count": 17,
   "metadata": {},
   "outputs": [],
   "source": [
    "# map the tags from supplemental dataframe to my primary dataframe\n",
    "mapping = dict(supplemental_df[['unique_key','tags']].values)\n",
    "primary_df['tags'] = primary_df.unique_key.map(mapping)"
   ]
  },
  {
   "cell_type": "code",
   "execution_count": 18,
   "metadata": {},
   "outputs": [],
   "source": [
    "# drop the 'unique_key' columns and create a new dataframe called 'df'\n",
    "df = primary_df.drop('unique_key', axis = 1)"
   ]
  },
  {
   "cell_type": "code",
   "execution_count": 19,
   "metadata": {},
   "outputs": [],
   "source": [
    "df.to_pickle('music_df.pickle')"
   ]
  },
  {
   "cell_type": "code",
   "execution_count": null,
   "metadata": {},
   "outputs": [],
   "source": []
  },
  {
   "cell_type": "code",
   "execution_count": null,
   "metadata": {},
   "outputs": [],
   "source": []
  },
  {
   "cell_type": "code",
   "execution_count": null,
   "metadata": {},
   "outputs": [],
   "source": []
  },
  {
   "cell_type": "code",
   "execution_count": null,
   "metadata": {},
   "outputs": [],
   "source": []
  },
  {
   "cell_type": "code",
   "execution_count": null,
   "metadata": {},
   "outputs": [],
   "source": []
  },
  {
   "cell_type": "code",
   "execution_count": null,
   "metadata": {},
   "outputs": [],
   "source": []
  },
  {
   "cell_type": "code",
   "execution_count": null,
   "metadata": {},
   "outputs": [],
   "source": []
  },
  {
   "cell_type": "code",
   "execution_count": null,
   "metadata": {},
   "outputs": [],
   "source": []
  },
  {
   "cell_type": "code",
   "execution_count": null,
   "metadata": {},
   "outputs": [],
   "source": []
  },
  {
   "cell_type": "code",
   "execution_count": null,
   "metadata": {},
   "outputs": [],
   "source": []
  }
 ],
 "metadata": {
  "kernelspec": {
   "display_name": "Python 3",
   "language": "python",
   "name": "python3"
  },
  "language_info": {
   "codemirror_mode": {
    "name": "ipython",
    "version": 3
   },
   "file_extension": ".py",
   "mimetype": "text/x-python",
   "name": "python",
   "nbconvert_exporter": "python",
   "pygments_lexer": "ipython3",
   "version": "3.6.8"
  }
 },
 "nbformat": 4,
 "nbformat_minor": 2
}
